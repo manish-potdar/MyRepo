{
 "cells": [
  {
   "cell_type": "code",
   "execution_count": 1,
   "id": "4c1d803f",
   "metadata": {},
   "outputs": [
    {
     "name": "stderr",
     "output_type": "stream",
     "text": [
      "2023-05-29 15:35:49.811834: I tensorflow/tsl/cuda/cudart_stub.cc:28] Could not find cuda drivers on your machine, GPU will not be used.\n",
      "2023-05-29 15:35:49.936044: I tensorflow/tsl/cuda/cudart_stub.cc:28] Could not find cuda drivers on your machine, GPU will not be used.\n",
      "2023-05-29 15:35:49.937144: I tensorflow/core/platform/cpu_feature_guard.cc:182] This TensorFlow binary is optimized to use available CPU instructions in performance-critical operations.\n",
      "To enable the following instructions: AVX2 FMA, in other operations, rebuild TensorFlow with the appropriate compiler flags.\n",
      "2023-05-29 15:35:51.240758: W tensorflow/compiler/tf2tensorrt/utils/py_utils.cc:38] TF-TRT Warning: Could not find TensorRT\n"
     ]
    }
   ],
   "source": [
    "from tensorflow.keras.datasets import imdb"
   ]
  },
  {
   "cell_type": "code",
   "execution_count": 2,
   "id": "05bf08ee",
   "metadata": {},
   "outputs": [
    {
     "name": "stdout",
     "output_type": "stream",
     "text": [
      "Downloading data from https://storage.googleapis.com/tensorflow/tf-keras-datasets/imdb.npz\n",
      "17464789/17464789 [==============================] - 1s 0us/step\n"
     ]
    }
   ],
   "source": [
    "(train_data, train_label), (test_data, test_label) = imdb.load_data(num_words = 10000)"
   ]
  },
  {
   "cell_type": "code",
   "execution_count": 3,
   "id": "444f33e5",
   "metadata": {},
   "outputs": [],
   "source": [
    "import numpy as np\n",
    "\n",
    "def vectorize_sequences(sequences, dimensions = 10000):\n",
    "  results = np.zeros((len(sequences), dimensions))\n",
    "  for i,sequences in enumerate(sequences):\n",
    "    results[i, sequences] = 1\n",
    "  return results\n",
    "\n",
    "x_train = vectorize_sequences(train_data)\n",
    "y_train = vectorize_sequences(test_data)"
   ]
  },
  {
   "cell_type": "code",
   "execution_count": 4,
   "id": "7f5a8ab5",
   "metadata": {},
   "outputs": [],
   "source": [
    "y_train = np.asarray(train_label).astype('float32')\n",
    "y_test = np.asarray(test_label).astype('float32')"
   ]
  },
  {
   "cell_type": "code",
   "execution_count": 5,
   "id": "8cfd23fc",
   "metadata": {},
   "outputs": [],
   "source": [
    "from tensorflow.keras.models import Sequential\n",
    "from tensorflow.keras.layers import Dense"
   ]
  },
  {
   "cell_type": "code",
   "execution_count": 6,
   "id": "c36461bb",
   "metadata": {},
   "outputs": [],
   "source": [
    "model = Sequential()\n",
    "model.add(Dense(16, input_shape=(10000, ), activation = \"relu\"))\n",
    "model.add(Dense(16, activation = \"relu\"))\n",
    "model.add(Dense(1, activation = \"sigmoid\"))"
   ]
  },
  {
   "cell_type": "code",
   "execution_count": 7,
   "id": "c4a52ab5",
   "metadata": {},
   "outputs": [],
   "source": [
    "model.compile(optimizer='adam', loss = 'mse', metrics = ['accuracy'])"
   ]
  },
  {
   "cell_type": "code",
   "execution_count": 8,
   "id": "eae8294c",
   "metadata": {},
   "outputs": [
    {
     "name": "stdout",
     "output_type": "stream",
     "text": [
      "Model: \"sequential\"\n",
      "_________________________________________________________________\n",
      " Layer (type)                Output Shape              Param #   \n",
      "=================================================================\n",
      " dense (Dense)               (None, 16)                160016    \n",
      "                                                                 \n",
      " dense_1 (Dense)             (None, 16)                272       \n",
      "                                                                 \n",
      " dense_2 (Dense)             (None, 1)                 17        \n",
      "                                                                 \n",
      "=================================================================\n",
      "Total params: 160,305\n",
      "Trainable params: 160,305\n",
      "Non-trainable params: 0\n",
      "_________________________________________________________________\n"
     ]
    }
   ],
   "source": [
    "model.summary()"
   ]
  },
  {
   "cell_type": "code",
   "execution_count": 9,
   "id": "84d56141",
   "metadata": {},
   "outputs": [
    {
     "name": "stdout",
     "output_type": "stream",
     "text": [
      "Epoch 1/20\n"
     ]
    },
    {
     "name": "stderr",
     "output_type": "stream",
     "text": [
      "2023-05-29 15:36:20.356637: W tensorflow/tsl/framework/cpu_allocator_impl.cc:83] Allocation of 700000000 exceeds 10% of free system memory.\n"
     ]
    },
    {
     "name": "stdout",
     "output_type": "stream",
     "text": [
      "35/35 [==============================] - 2s 29ms/step - loss: 0.1822 - accuracy: 0.7734 - val_loss: 0.1198 - val_accuracy: 0.8727\n",
      "Epoch 2/20\n",
      "35/35 [==============================] - 0s 13ms/step - loss: 0.0876 - accuracy: 0.9047 - val_loss: 0.0882 - val_accuracy: 0.8887\n",
      "Epoch 3/20\n",
      "35/35 [==============================] - 0s 14ms/step - loss: 0.0591 - accuracy: 0.9361 - val_loss: 0.0808 - val_accuracy: 0.8945\n",
      "Epoch 4/20\n",
      "35/35 [==============================] - 0s 13ms/step - loss: 0.0440 - accuracy: 0.9545 - val_loss: 0.0813 - val_accuracy: 0.8905\n",
      "Epoch 5/20\n",
      "35/35 [==============================] - 0s 14ms/step - loss: 0.0340 - accuracy: 0.9671 - val_loss: 0.0823 - val_accuracy: 0.8895\n",
      "Epoch 6/20\n",
      "35/35 [==============================] - 0s 13ms/step - loss: 0.0267 - accuracy: 0.9762 - val_loss: 0.0852 - val_accuracy: 0.8853\n",
      "Epoch 7/20\n",
      "35/35 [==============================] - 0s 13ms/step - loss: 0.0210 - accuracy: 0.9834 - val_loss: 0.0875 - val_accuracy: 0.8828\n",
      "Epoch 8/20\n",
      "35/35 [==============================] - 1s 15ms/step - loss: 0.0166 - accuracy: 0.9879 - val_loss: 0.0902 - val_accuracy: 0.8804\n",
      "Epoch 9/20\n",
      "35/35 [==============================] - 1s 16ms/step - loss: 0.0135 - accuracy: 0.9903 - val_loss: 0.0924 - val_accuracy: 0.8765\n",
      "Epoch 10/20\n",
      "35/35 [==============================] - 0s 14ms/step - loss: 0.0110 - accuracy: 0.9923 - val_loss: 0.0949 - val_accuracy: 0.8747\n",
      "Epoch 11/20\n",
      "35/35 [==============================] - 1s 15ms/step - loss: 0.0093 - accuracy: 0.9933 - val_loss: 0.0964 - val_accuracy: 0.8737\n",
      "Epoch 12/20\n",
      "35/35 [==============================] - 1s 16ms/step - loss: 0.0080 - accuracy: 0.9942 - val_loss: 0.0981 - val_accuracy: 0.8736\n",
      "Epoch 13/20\n",
      "35/35 [==============================] - 1s 15ms/step - loss: 0.0071 - accuracy: 0.9948 - val_loss: 0.0994 - val_accuracy: 0.8725\n",
      "Epoch 14/20\n",
      "35/35 [==============================] - 1s 16ms/step - loss: 0.0065 - accuracy: 0.9950 - val_loss: 0.1005 - val_accuracy: 0.8725\n",
      "Epoch 15/20\n",
      "35/35 [==============================] - 1s 15ms/step - loss: 0.0061 - accuracy: 0.9951 - val_loss: 0.1018 - val_accuracy: 0.8715\n",
      "Epoch 16/20\n",
      "35/35 [==============================] - 1s 15ms/step - loss: 0.0057 - accuracy: 0.9953 - val_loss: 0.1024 - val_accuracy: 0.8707\n",
      "Epoch 17/20\n",
      "35/35 [==============================] - 1s 15ms/step - loss: 0.0054 - accuracy: 0.9954 - val_loss: 0.1032 - val_accuracy: 0.8700\n",
      "Epoch 18/20\n",
      "35/35 [==============================] - 1s 16ms/step - loss: 0.0051 - accuracy: 0.9956 - val_loss: 0.1037 - val_accuracy: 0.8708\n",
      "Epoch 19/20\n",
      "35/35 [==============================] - 1s 15ms/step - loss: 0.0050 - accuracy: 0.9956 - val_loss: 0.1043 - val_accuracy: 0.8704\n",
      "Epoch 20/20\n",
      "35/35 [==============================] - 1s 15ms/step - loss: 0.0048 - accuracy: 0.9956 - val_loss: 0.1049 - val_accuracy: 0.8700\n"
     ]
    }
   ],
   "source": [
    "history = model.fit(x_train, y_train, validation_split = 0.3, epochs = 20, verbose = 1, batch_size = 512)"
   ]
  },
  {
   "cell_type": "code",
   "execution_count": null,
   "id": "ef8c8e39",
   "metadata": {},
   "outputs": [],
   "source": []
  },
  {
   "cell_type": "code",
   "execution_count": null,
   "id": "f39d09b2",
   "metadata": {},
   "outputs": [],
   "source": []
  }
 ],
 "metadata": {
  "kernelspec": {
   "display_name": "Python 3",
   "language": "python",
   "name": "python3"
  },
  "language_info": {
   "codemirror_mode": {
    "name": "ipython",
    "version": 3
   },
   "file_extension": ".py",
   "mimetype": "text/x-python",
   "name": "python",
   "nbconvert_exporter": "python",
   "pygments_lexer": "ipython3",
   "version": "3.10.9"
  }
 },
 "nbformat": 4,
 "nbformat_minor": 5
}
